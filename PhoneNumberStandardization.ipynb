{
 "cells": [
  {
   "cell_type": "code",
   "execution_count": 2,
   "metadata": {},
   "outputs": [
    {
     "name": "stdout",
     "output_type": "stream",
     "text": [
      "+----------+----------------+\n",
      "|mobile_nos|Formatted_Number|\n",
      "+----------+----------------+\n",
      "| 667593514|    (667)593-514|\n",
      "| 940995585|    (940)995-585|\n",
      "| 880811536|    (880)811-536|\n",
      "| 174590194|    (174)590-194|\n",
      "| 830192887|    (830)192-887|\n",
      "| 425793445|    (425)793-445|\n",
      "| 659878194|    (659)878-194|\n",
      "| 601245963|    (601)245-963|\n",
      "| 739008080|    (739)008-080|\n",
      "| 732588374|    (732)588-374|\n",
      "| 761723172|    (761)723-172|\n",
      "| 176461303|    (176)461-303|\n",
      "| 647164094|    (647)164-094|\n",
      "| 314505374|    (314)505-374|\n",
      "| 539471471|    (539)471-471|\n",
      "| 953361213|    (953)361-213|\n",
      "| 807785928|    (807)785-928|\n",
      "| 324669444|    (324)669-444|\n",
      "| 246248090|    (246)248-090|\n",
      "| 485070693|    (485)070-693|\n",
      "+----------+----------------+\n",
      "only showing top 20 rows\n",
      "\n"
     ]
    }
   ],
   "source": [
    "import pyspark\n",
    "import re\n",
    "from pyspark import SparkContext, SparkConf\n",
    "from pyspark.sql import SparkSession\n",
    "from pyspark.sql.functions import *\n",
    "from pyspark.sql.window import Window\n",
    "from pyspark.sql.types import *\n",
    "df1=spark.read.csv(\"/home/affine/Downloads/mi.csv\",inferSchema=True,header=True)\n",
    "df2 = df1.select(df1.mobile_nos.cast(\"String\"))\n",
    "\n",
    "def formatted(num):\n",
    "    s=\"\"\n",
    "    matches = re.findall(\"(\\d+)\", num)\n",
    "    for i in matches: \n",
    "        s=s+i\n",
    "    a= s[-10:]\n",
    "    no = '({}){}-{}'\n",
    "    no1= no.format(a[0:3],a[3:6],a[6:10])\n",
    "    return no1\n",
    "ph = udf(formatted,StringType())\n",
    "df2 = df2.withColumn(\"Formatted_Number\",ph(\"mobile_nos\"))\n",
    "df2.show()"
   ]
  },
  {
   "cell_type": "code",
   "execution_count": null,
   "metadata": {
    "collapsed": true
   },
   "outputs": [],
   "source": []
  }
 ],
 "metadata": {
  "kernelspec": {
   "display_name": "Python 3",
   "language": "python",
   "name": "python3"
  },
  "language_info": {
   "codemirror_mode": {
    "name": "ipython",
    "version": 3
   },
   "file_extension": ".py",
   "mimetype": "text/x-python",
   "name": "python",
   "nbconvert_exporter": "python",
   "pygments_lexer": "ipython3",
   "version": "3.6.1"
  }
 },
 "nbformat": 4,
 "nbformat_minor": 2
}
